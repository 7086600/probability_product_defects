{
 "cells": [
  {
   "cell_type": "markdown",
   "id": "b3a463f9",
   "metadata": {},
   "source": [
    "# Detecting Product Defects with Probability\n",
    "\n",
    "This project abou of monitoring the number of defective products from a specific factory. The number of defects on a given day follows the Poisson distribution with the rate parameter (lambda) equal to 7. We  want to get a feel for what it means to follow the Poisson(7) distribution. Fore the reminder that the Poisson distribution is special because the rate parameter represents the expected value of the distribution, so in this case, the expected value of the Poisson(7) distribution is 7 defects per day.\n",
    "\n",
    "We will investigate certain attributes of the Poisson(7) distribution to get an intuition for how many defective objects we should expect to see in a given amount of time. We will also practice and apply knowledge about the Poisson distribution on a practice data set that we will simulate for us."
   ]
  },
  {
   "cell_type": "code",
   "execution_count": 4,
   "id": "27b6d951",
   "metadata": {},
   "outputs": [],
   "source": [
    "# importing necessary libraries\n",
    "import pandas as pd\n",
    "import numpy as np\n",
    "import scipy.stats as stats\n",
    "\n",
    "# setting options\n",
    "pd.set_option('display.max_columns', None)\n",
    "np.set_printoptions(suppress=True, precision = 2)"
   ]
  },
  {
   "cell_type": "markdown",
   "id": "294a6c08",
   "metadata": {},
   "source": [
    "## Distribution in Theory"
   ]
  },
  {
   "cell_type": "code",
   "execution_count": 5,
   "id": "c4745b99",
   "metadata": {},
   "outputs": [],
   "source": [
    "# task 1: Create a variable called lam that represents the rate parameter of our distribution\n",
    "lam = 7"
   ]
  },
  {
   "cell_type": "code",
   "execution_count": 6,
   "id": "10ff91f6",
   "metadata": {},
   "outputs": [
    {
     "name": "stdout",
     "output_type": "stream",
     "text": [
      "The probability of observing exactly 7 defects on a given day is: 0.1490\n"
     ]
    }
   ],
   "source": [
    "# task 2: Calculate and print the probability of observing exactly lam defects on a given day\n",
    "# Using the Probability Mass Function\n",
    "prob_lam = stats.poisson.pmf(lam, lam)\n",
    "print(f\"The probability of observing exactly {lam} defects on a given day is: {prob_lam:.4f}\")"
   ]
  },
  {
   "cell_type": "code",
   "execution_count": 7,
   "id": "c40844cc",
   "metadata": {},
   "outputs": [
    {
     "name": "stdout",
     "output_type": "stream",
     "text": [
      "The probability of having 4 or fewer defects on a given day is: 0.1730\n"
     ]
    }
   ],
   "source": [
    "# task 3: Calculate and print the probability of having 4 or fewer defects on a given day\n",
    "# Using the Cumulative Distribution Function\n",
    "prob_4_or_fewer = stats.poisson.cdf(4, lam)\n",
    "print(f\"The probability of having 4 or fewer defects on a given day is: {prob_4_or_fewer:.4f}\")"
   ]
  },
  {
   "cell_type": "code",
   "execution_count": 8,
   "id": "b4bffe4b",
   "metadata": {},
   "outputs": [
    {
     "name": "stdout",
     "output_type": "stream",
     "text": [
      "The probability of having more than 9 defects on a given day is: 0.1695\n"
     ]
    }
   ],
   "source": [
    "# task 4: Calculate and print the probability of having more than 9 defects on a given day\n",
    "prob_9_or_more = 1- stats.poisson.cdf(9, lam)\n",
    "print(f\"The probability of having more than 9 defects on a given day is: {prob_9_or_more:.4f}\")"
   ]
  },
  {
   "cell_type": "markdown",
   "id": "bb395eeb",
   "metadata": {},
   "source": [
    "## Distribution in Practice"
   ]
  },
  {
   "cell_type": "code",
   "execution_count": 9,
   "id": "bcd1c883",
   "metadata": {},
   "outputs": [],
   "source": [
    "# task 5: Create a variable called year_defects that has 365 random values from the Poisson distribution\n",
    "# Using the .rvs() method\n",
    "year_defects = stats.poisson.rvs(lam, size = 365)"
   ]
  },
  {
   "cell_type": "code",
   "execution_count": 10,
   "id": "f382fff0",
   "metadata": {},
   "outputs": [
    {
     "name": "stdout",
     "output_type": "stream",
     "text": [
      "The first 20 values in year_defects data set are:\n",
      "[ 3 11  8  2  5  9  3 11  4  7  6  5  5  5  8 10  7  9  2  7]\n"
     ]
    }
   ],
   "source": [
    "# task 6: Print the first 20 values in this data set\n",
    "print(f\"The first 20 values in year_defects data set are:\\n{year_defects[:20]}\")"
   ]
  },
  {
   "cell_type": "code",
   "execution_count": 11,
   "id": "bef3eabd",
   "metadata": {},
   "outputs": [
    {
     "name": "stdout",
     "output_type": "stream",
     "text": [
      "The total number of defects we would expect over 365 days is: 2555\n"
     ]
    }
   ],
   "source": [
    "# task 7: The total number of defects we would expect over 365 days\n",
    "total_expect_defects = lam * 365\n",
    "print(f\"The total number of defects we would expect over 365 days is: {total_expect_defects}\")"
   ]
  },
  {
   "cell_type": "code",
   "execution_count": 12,
   "id": "df8153fb",
   "metadata": {},
   "outputs": [
    {
     "name": "stdout",
     "output_type": "stream",
     "text": [
      "The total sum of the data set year_defects is: 2493\n"
     ]
    }
   ],
   "source": [
    "# task 8: Calculate and print the total sum of the data set year_defects\n",
    "total_defects = np.sum(year_defects)\n",
    "print(f\"The total sum of the data set year_defects is: {total_defects}\")"
   ]
  },
  {
   "cell_type": "markdown",
   "id": "5d06133b",
   "metadata": {},
   "source": [
    "The total number of defects we observed is less/greater (underline needed) than the sum of the expected number of defects."
   ]
  },
  {
   "cell_type": "code",
   "execution_count": 13,
   "id": "baee72c6",
   "metadata": {},
   "outputs": [
    {
     "name": "stdout",
     "output_type": "stream",
     "text": [
      "The average number of defects per day from our simulated dataset is: 6.83\n",
      "The expected value of defects per day is: 7.00\n"
     ]
    }
   ],
   "source": [
    "# task 9: Calculate and print the average number of defects per day from our simulated dataset\n",
    "print(f\"The average number of defects per day from our simulated dataset is: {year_defects.mean():.2f}\")\n",
    "print(f\"The expected value of defects per day is: {lam:.2f}\")"
   ]
  },
  {
   "cell_type": "markdown",
   "id": "c741c609",
   "metadata": {},
   "source": [
    "The resulting value of the average number of defects per day is pretty close to the expected average from the Poisson distribution."
   ]
  },
  {
   "cell_type": "code",
   "execution_count": 14,
   "id": "9e3d6ee6",
   "metadata": {},
   "outputs": [
    {
     "name": "stdout",
     "output_type": "stream",
     "text": [
      "The maximum value of year_defects is: 20\n"
     ]
    }
   ],
   "source": [
    "# task 10: Print the maximum value of year_defects\n",
    "defects_max = np.max(year_defects)\n",
    "print(f\"The maximum value of year_defects is: {defects_max}\")"
   ]
  },
  {
   "cell_type": "code",
   "execution_count": 15,
   "id": "89ce6216",
   "metadata": {},
   "outputs": [
    {
     "name": "stdout",
     "output_type": "stream",
     "text": [
      "The probability of observing that maximum value or more is: 0.0000\n"
     ]
    }
   ],
   "source": [
    "# task 11: Calculate and print the probability of observing that maximum value or more from the Poisson(7) distribution\n",
    "prob_max_or_more = 1- stats.poisson.cdf(defects_max, lam)\n",
    "print(f\"The probability of observing that maximum value or more is: {prob_max_or_more:.4f}\")"
   ]
  },
  {
   "cell_type": "markdown",
   "id": "41361a0a",
   "metadata": {},
   "source": [
    "## Extra"
   ]
  },
  {
   "cell_type": "markdown",
   "id": "c25147bd",
   "metadata": {},
   "source": [
    "task 12: We want to know how many defects in a given day would put us in the 90th percentile of the Poisson(7) distribution."
   ]
  },
  {
   "cell_type": "code",
   "execution_count": 21,
   "id": "1148d0b4",
   "metadata": {},
   "outputs": [
    {
     "name": "stdout",
     "output_type": "stream",
     "text": [
      "On 90% of days, we will observe fewer than 10.0 defects\n"
     ]
    }
   ],
   "source": [
    "defects_90_percentile = stats.poisson.ppf(0.9, lam)\n",
    "print(f\"On 90% of days, we will observe fewer than {defects_90_percentile} defects\")"
   ]
  },
  {
   "cell_type": "code",
   "execution_count": 39,
   "id": "b6f2b42d",
   "metadata": {},
   "outputs": [
    {
     "name": "stdout",
     "output_type": "stream",
     "text": [
      "The number of values in the dataset that are greater than or equal to the 90th percentile value is: 61\n",
      "The proportion of our simulated dataset year_defects is greater than or equal to defects_90_percentile is: 0.17\n"
     ]
    }
   ],
   "source": [
    "# task 13: Calculate the proportion of our simulated dataset year_defects is greater than or equal to the number defects_90_percentile\n",
    "year_defects_90ppf_or_more = [i for i in year_defects if i >= defects_90_percentile]\n",
    "# print(year_defects_90ppf_or_more)\n",
    "count_90ppf_or_more = len(year_defects_90ppf_or_more)\n",
    "print(f\"The number of values in the dataset that are greater than or equal to the 90th percentile value is: {count_90ppf_or_more}\")\n",
    "\n",
    "prop_90ppf_or_more = count_90ppf_or_more/len(year_defects)\n",
    "print(f\"The proportion of our simulated dataset year_defects is greater than or equal to defects_90_percentile is: {prop_90ppf_or_more:.2f}\")"
   ]
  }
 ],
 "metadata": {
  "kernelspec": {
   "display_name": "base",
   "language": "python",
   "name": "python3"
  },
  "language_info": {
   "codemirror_mode": {
    "name": "ipython",
    "version": 3
   },
   "file_extension": ".py",
   "mimetype": "text/x-python",
   "name": "python",
   "nbconvert_exporter": "python",
   "pygments_lexer": "ipython3",
   "version": "3.11.5"
  }
 },
 "nbformat": 4,
 "nbformat_minor": 5
}
