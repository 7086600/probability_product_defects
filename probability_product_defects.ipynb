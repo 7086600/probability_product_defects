{
 "cells": [
  {
   "cell_type": "markdown",
   "id": "b3a463f9",
   "metadata": {},
   "source": [
    "# Detecting Product Defects with Probability\n",
    "\n",
    "This project abou of monitoring the number of defective products from a specific factory. The number of defects on a given day follows the Poisson distribution with the rate parameter (lambda) equal to 7. We  want to get a feel for what it means to follow the Poisson(7) distribution. Fore the reminder that the Poisson distribution is special because the rate parameter represents the expected value of the distribution, so in this case, the expected value of the Poisson(7) distribution is 7 defects per day.\n",
    "\n",
    "We will investigate certain attributes of the Poisson(7) distribution to get an intuition for how many defective objects we should expect to see in a given amount of time. We will also practice and apply knowledge about the Poisson distribution on a practice data set that we will simulate for us."
   ]
  },
  {
   "cell_type": "code",
   "execution_count": 4,
   "id": "27b6d951",
   "metadata": {},
   "outputs": [],
   "source": [
    "# importing necessary libraries\n",
    "import pandas as pd\n",
    "import numpy as np\n",
    "\n",
    "# setting options\n",
    "pd.set_option('display.max_columns', None)\n",
    "np.set_printoptions(suppress=True, precision = 2)"
   ]
  },
  {
   "cell_type": "markdown",
   "id": "294a6c08",
   "metadata": {},
   "source": [
    "## Distribution in Theory"
   ]
  },
  {
   "cell_type": "code",
   "execution_count": 3,
   "id": "c4745b99",
   "metadata": {},
   "outputs": [],
   "source": [
    "# step 1: Create a variable called lam that represents the rate parameter of our distribution\n",
    "lam = 7"
   ]
  }
 ],
 "metadata": {
  "kernelspec": {
   "display_name": "base",
   "language": "python",
   "name": "python3"
  },
  "language_info": {
   "codemirror_mode": {
    "name": "ipython",
    "version": 3
   },
   "file_extension": ".py",
   "mimetype": "text/x-python",
   "name": "python",
   "nbconvert_exporter": "python",
   "pygments_lexer": "ipython3",
   "version": "3.11.11"
  }
 },
 "nbformat": 4,
 "nbformat_minor": 5
}
